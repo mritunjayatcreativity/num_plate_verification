{
 "cells": [
  {
   "cell_type": "code",
   "execution_count": 1,
   "metadata": {},
   "outputs": [],
   "source": [
    "import requests\n",
    "import cv2\n",
    "import numpy as np\n",
    "import imutils\n",
    "import pytesseract\n",
    "import xmltodict\n",
    "import json"
   ]
  },
  {
   "cell_type": "code",
   "execution_count": 2,
   "metadata": {},
   "outputs": [],
   "source": [
    "pytesseract.pytesseract.tesseract_cmd= r'E:\\Tesseract-OCR\\tesseract.exe'  # Teseract Loacation\n",
    "cascade= cv2.CascadeClassifier('haarcascade_russian_plate_number.xml')    # Cascade Model\n",
    "url = \"http://192.168.29.78:8080/shot.jpg\"\n",
    "minArea= 500"
   ]
  },
  {
   "cell_type": "code",
   "execution_count": 3,
   "metadata": {},
   "outputs": [],
   "source": [
    "def capture():\n",
    "    while True:\n",
    "        img_resp = requests.get(url)\n",
    "        img_arr = np.array(bytearray(img_resp.content), dtype=np.uint8)\n",
    "        img = cv2.imdecode(img_arr, -1)\n",
    "        img = imutils.resize(img, width=1000, height=1800)\n",
    "\n",
    "        imgGray= cv2.cvtColor(img, cv2.COLOR_BGR2GRAY)\n",
    "        numberplate= cascade.detectMultiScale(imgGray, 1.1,4)\n",
    "\n",
    "        for (x,y,w,h) in numberplate:\n",
    "            area= w*h\n",
    "            if area > minArea:\n",
    "                cv2.rectangle(img, (x,y), (x+w, y+h), [0,255,0], 2)\n",
    "                cv2.putText(img,\"NUMBER_PLATE\", (x, (y-5)), cv2.FONT_HERSHEY_COMPLEX, 1, [0,255,0], 2)\n",
    "            imgCrop= img[y: y+h, x: x+w]\n",
    "\n",
    "        cv2.imshow(\"Number_Plate\", img)\n",
    "        if cv2.waitKey(1) == 13:\n",
    "            break\n",
    "\n",
    "        hImg, wImg,_ = imgCrop.shape\n",
    "        imgRGB= cv2.cvtColor(imgCrop, cv2.COLOR_BGR2RGB)\n",
    "        cv2.imwrite('../imgRGB.jpg', imgCrop)\n",
    "    cv2.destroyAllWindows()\n",
    "\n",
    "def get_vehicle_info(plate_number):\n",
    "    r = requests.get(\"http://www.regcheck.org.uk/api/reg.asmx/CheckIndia?RegistrationNumber={0}&username=abrakadabra\".format(str(plate_number)))\n",
    "    data = xmltodict.parse(r.content)\n",
    "    jdata = json.dumps(data)\n",
    "    data_final = json.loads(jdata)\n",
    "    data_print = json.loads(data_final['Vehicle']['vehicleJson'])\n",
    "    print(data_print)\n",
    "    return data_print\n",
    "\n",
    "\n",
    "def text(image):\n",
    "    def listToString(s):         \n",
    "        str1 = \"\"          \n",
    "        for ele in s: \n",
    "            str1 += ele         \n",
    "        return str1 \n",
    "\n",
    "    img = cv2.imread(image)\n",
    "    hImg, wImg,_ = img.shape\n",
    "    #img= cv2.cvtColor(img, cv2.COLOR_BGR2RGB)\n",
    "    img= cv2.cvtColor(img, cv2.COLOR_BGR2GRAY)\n",
    "    #(thresh, img) = cv2.threshold(img, 127, 255, cv2.THRESH_BINARY)\n",
    "\n",
    "    boxes= pytesseract.image_to_boxes(img)\n",
    "    #print(boxes)\n",
    "    plate= []\n",
    "    for k in boxes.splitlines():\n",
    "        plate.append(k[0])\n",
    "\n",
    "    final= listToString(plate)\n",
    "    if len(final) > 10:\n",
    "        final = final[0:10]\n",
    "    #print(final_plate)\n",
    "        print(final)\n",
    "    for b in boxes.splitlines():\n",
    "        b= b.split(' ')\n",
    "        #print(b)\n",
    "        x,y,w,h= int(b[1]), int(b[2]), int(b[3]), int(b[4])\n",
    "        cv2.rectangle(img, (x,y), (w,h),[0,255,0],1)\n",
    "        cv2.putText(img, b[0], (x,hImg- y+25), cv2.FONT_HERSHEY_COMPLEX, 1, [0,255,0], 2)\n",
    "    #print(pytesseract.image_to_boxes(img))\n",
    "    cv2.imshow('RESULT', img)\n",
    "    cv2.waitKey(0) \n",
    "    get_vehicle_info(final)\n"
   ]
  },
  {
   "cell_type": "code",
   "execution_count": 4,
   "metadata": {},
   "outputs": [],
   "source": [
    "capture()"
   ]
  },
  {
   "cell_type": "code",
   "execution_count": 5,
   "metadata": {},
   "outputs": [
    {
     "name": "stdout",
     "output_type": "stream",
     "text": [
      "MH20EE7598\n",
      "{'Description': 'SKODA OCTAVIA STYLE PLUS 2.0 TDI CR AT', 'RegistrationYear': '2017', 'CarMake': {'CurrentTextValue': 'SKODA'}, 'CarModel': {'CurrentTextValue': 'OCTAVIA'}, 'EngineSize': {'CurrentTextValue': '1968'}, 'MakeDescription': {'CurrentTextValue': 'SKODA'}, 'ModelDescription': {'CurrentTextValue': 'OCTAVIA'}, 'VechileIdentificationNumber': 'TMBBJCNE6HA006323', 'NumberOfSeats': {'CurrentTextValue': '5'}, 'Colour': '', 'EngineNumber': 'CRV125813', 'FuelType': {'CurrentTextValue': 'Diesel'}, 'RegistrationDate': '19-MAY-17', 'Location': 'RTO,AURANGABAD', 'ImageUrl': 'http://in.carregistrationapi.com/image.aspx/@U0tPREEgT0NUQVZJQSBTVFlMRSBQTFVTIDIuMCBUREkgQ1IgQVQ='}\n"
     ]
    }
   ],
   "source": [
    "text('./imgRGB.jpg')"
   ]
  },
  {
   "cell_type": "code",
   "execution_count": null,
   "metadata": {},
   "outputs": [],
   "source": []
  }
 ],
 "metadata": {
  "kernelspec": {
   "display_name": "Python 3",
   "language": "python",
   "name": "python3"
  },
  "language_info": {
   "codemirror_mode": {
    "name": "ipython",
    "version": 3
   },
   "file_extension": ".py",
   "mimetype": "text/x-python",
   "name": "python",
   "nbconvert_exporter": "python",
   "pygments_lexer": "ipython3",
   "version": "3.8.3"
  }
 },
 "nbformat": 4,
 "nbformat_minor": 4
}
